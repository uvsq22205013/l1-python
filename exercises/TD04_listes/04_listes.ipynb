{
 "cells": [
  {
   "cell_type": "markdown",
   "metadata": {},
   "source": [
    "# TD 4: Listes"
   ]
  },
  {
   "cell_type": "markdown",
   "metadata": {},
   "source": [
    "---\n",
    "\n",
    "## 1. Débuts avec les listes\n",
    "\n",
    "Dans cette partie, il faut écrire les réponses directement dans le notebook. En plus du cours, n'hésitez pas à consulter la documentation (tutoriel) Python sur les listes [ici (introduction aux listes)](https://docs.python.org/fr/3.6/tutorial/introduction.html#lists) et [ici (complément sur les listes)] (https://docs.python.org/fr/3/tutorial/datastructures.html#more-on-lists).\n",
    "\n",
    "1. Créer la liste `3, 5, 10`, l'affecter à une variable, puis l'afficher."
   ]
  },
  {
   "cell_type": "code",
   "execution_count": 1,
   "metadata": {},
   "outputs": [
    {
     "name": "stdout",
     "output_type": "stream",
     "text": [
      "[3, 5, 10]\n"
     ]
    }
   ],
   "source": [
    "x=[3,5,10]\n",
    "print(x)"
   ]
  },
  {
   "cell_type": "markdown",
   "metadata": {},
   "source": [
    "2. Ajouter ensuite 12 et 17 à la fin puis afficher à nouveau la liste."
   ]
  },
  {
   "cell_type": "code",
   "execution_count": 3,
   "metadata": {},
   "outputs": [
    {
     "name": "stdout",
     "output_type": "stream",
     "text": [
      "[3, 5, 10, 12, 17]\n"
     ]
    }
   ],
   "source": [
    "x.append(12)\n",
    "x.append(17)\n",
    "print(x)"
   ]
  },
  {
   "cell_type": "markdown",
   "metadata": {},
   "source": [
    "3. Changer le 10 en -7."
   ]
  },
  {
   "cell_type": "code",
   "execution_count": 6,
   "metadata": {},
   "outputs": [
    {
     "name": "stdout",
     "output_type": "stream",
     "text": [
      "[3, 5, -7, 10, 12, 17]\n"
     ]
    }
   ],
   "source": [
    "x.insert(2,-7)\n",
    "x.remove(10)\n",
    "print(x)"
   ]
  },
  {
   "cell_type": "markdown",
   "metadata": {},
   "source": [
    "4. Avec une boucle `for`, écrire le double de chaque élément de la liste. Cela doit afficher `[6, 10, -14, 24, 34]`. La liste doit être modifiée."
   ]
  },
  {
   "cell_type": "code",
   "execution_count": 7,
   "metadata": {},
   "outputs": [],
   "source": [
    "for i in range(len(x)):\n",
    "    x[i]=x[i]*2\n",
    "print(x)"
   ]
  },
  {
   "cell_type": "markdown",
   "metadata": {},
   "source": [
    "5. A l'aide d'une boucle `for`, ajouter  la valeur `i` à l'élément d'indice `i` de la liste. Cela doit afficher `[6, 11, -12, 27, 38]`. La liste doit être modifiée."
   ]
  },
  {
   "cell_type": "code",
   "execution_count": 11,
   "metadata": {},
   "outputs": [
    {
     "name": "stdout",
     "output_type": "stream",
     "text": [
      "[6, 11, -12, 27, 38]\n"
     ]
    }
   ],
   "source": [
    "for k in range(len(x)):\n",
    "    x[k]+=k\n",
    "print(x)"
   ]
  },
  {
   "cell_type": "markdown",
   "metadata": {},
   "source": [
    "6. Tirer 10 nombres à 2 chiffres au hasard et les mettre dans une nouvelle liste (vide au départ), puis afficher la somme des entiers de la liste et le plus grand de ces entiers."
   ]
  },
  {
   "cell_type": "code",
   "execution_count": 15,
   "metadata": {},
   "outputs": [
    {
     "name": "stdout",
     "output_type": "stream",
     "text": [
      "395\n",
      "[14, 21, 22, 23, 25, 27, 31, 63, 78, 91]\n",
      "91\n"
     ]
    }
   ],
   "source": [
    "import random\n",
    "list=[]\n",
    "somme=0\n",
    "for n in range(10):\n",
    "    list.append(random.randint(10,99))\n",
    "    somme+=list[n]\n",
    "print(somme)\n",
    "list.sort()\n",
    "print(list[-1])"
   ]
  },
  {
   "cell_type": "markdown",
   "metadata": {},
   "source": [
    "7. A partir de la liste choisie au hasard, créer une liste qui contient les éléments pairs et une deuxième liste qui contient les éléments impairs."
   ]
  },
  {
   "cell_type": "code",
   "execution_count": 16,
   "metadata": {},
   "outputs": [
    {
     "name": "stdout",
     "output_type": "stream",
     "text": [
      "[21, 23, 25, 27, 31, 63, 91] [14, 22, 78]\n"
     ]
    }
   ],
   "source": [
    "import random\n",
    "pair=[]\n",
    "imp=[]\n",
    "for k in range(len(list)):\n",
    "    if list[k]%2==0:\n",
    "        pair.append(list[k])\n",
    "    else:\n",
    "        imp.append(list[k])\n",
    "print(imp,pair)"
   ]
  },
  {
   "cell_type": "markdown",
   "metadata": {},
   "source": [
    "8. Trier la liste choisie au hasard par ordre croissant en modifiant la liste."
   ]
  },
  {
   "cell_type": "code",
   "execution_count": 19,
   "metadata": {},
   "outputs": [
    {
     "name": "stdout",
     "output_type": "stream",
     "text": [
      "[11, 22, 44, 51, 54, 70, 76, 84, 88, 98]\n"
     ]
    }
   ],
   "source": [
    "for k in range(len(list)):\n",
    "    list[k]=random.randint(10,99)\n",
    "list.sort()\n",
    "print(list)"
   ]
  },
  {
   "cell_type": "markdown",
   "metadata": {},
   "source": [
    "9. Supprimer le plus petit et le plus grand élément de la liste triée."
   ]
  },
  {
   "cell_type": "code",
   "execution_count": 20,
   "metadata": {},
   "outputs": [
    {
     "name": "stdout",
     "output_type": "stream",
     "text": [
      "[22, 44, 51, 54, 70, 76, 84, 88]\n"
     ]
    }
   ],
   "source": [
    "list.pop(0)\n",
    "list.pop(-1)\n",
    "print(list)"
   ]
  },
  {
   "cell_type": "markdown",
   "metadata": {},
   "source": [
    "10. Créer la liste des entiers de 1 jusqu'à 52. Ces entiers représentent les cartes d'un paquet de 52 cartes."
   ]
  },
  {
   "cell_type": "code",
   "execution_count": 26,
   "metadata": {},
   "outputs": [
    {
     "name": "stdout",
     "output_type": "stream",
     "text": [
      "[1, 2, 3, 4, 5, 6, 7, 8, 9, 10, 11, 12, 13, 14, 15, 16, 17, 18, 19, 20, 21, 22, 23, 24, 25, 26, 27, 28, 29, 30, 31, 32, 33, 34, 35, 36, 37, 38, 39, 40, 41, 42, 43, 44, 45, 46, 47, 48, 49, 50, 51, 52]\n"
     ]
    }
   ],
   "source": [
    "carte=[]\n",
    "for i in range(1,53):\n",
    "    carte.append(i)\n",
    "print(carte)"
   ]
  },
  {
   "cell_type": "markdown",
   "metadata": {},
   "source": [
    " 11. Couper le jeu de carte revient à choisir un indice `i` entre 0 et 51, et à passer toutes les cartes allant des indices 0 à i-1 à la suite des cartes qui vont des indices i à 51. Ecrire le code qui effectue une coupe choisie au hasard."
   ]
  },
  {
   "cell_type": "code",
   "execution_count": 27,
   "metadata": {},
   "outputs": [
    {
     "name": "stdout",
     "output_type": "stream",
     "text": [
      "16\n",
      "[17, 18, 19, 20, 21, 22, 23, 24, 25, 26, 27, 28, 29, 30, 31, 32, 33, 34, 35, 36, 37, 38, 39, 40, 41, 42, 43, 44, 45, 46, 47, 48, 49, 50, 51, 52, 1, 2, 3, 4, 5, 6, 7, 8, 9, 10, 11, 12, 13, 14, 15, 16]\n"
     ]
    }
   ],
   "source": [
    "coupe=random.randint(0,51)\n",
    "for i in range(coupe):\n",
    "    carte.pop(0)\n",
    "    carte.append(i+1)\n",
    "print(coupe)\n",
    "print(carte)\n",
    "\n"
   ]
  },
  {
   "cell_type": "markdown",
   "metadata": {},
   "source": [
    "---\n",
    "\n",
    "## 2. Problème de Syracuse\n",
    "\n",
    "Cette partie est à traiter dans un script que vous pouvez appeler, par exemple, `syracuse.py`.\n",
    "\n",
    "En partant d'un entier `n` de départ, on définit une suite d'entiers en obtenant chaque nouveau terme à partir du précédent soit en le divisant par 2 s'il est pair, soit en le multipliant par 3 et en ajoutant 1 s'il est impair. \n",
    "\n",
    "1. Sans écrire de programme, calculer les premières valeurs de la suite en chosissant `n = 3`.\n",
    "\n",
    "2. Ecrire la fonction qui, à partir d'un entier initial, renvoie la liste des valeurs successives jusqu'à ce que la valeur `1` soit atteinte (le dernier élément de la liste est donc toujours 1)."
   ]
  },
  {
   "cell_type": "code",
   "execution_count": 30,
   "metadata": {},
   "outputs": [
    {
     "name": "stdout",
     "output_type": "stream",
     "text": [
      "[10, 5.0, 16.0, 8.0, 4.0, 2.0, 1.0]\n"
     ]
    }
   ],
   "source": [
    "def syracuse(n):\n",
    "    val=[]\n",
    "    while n!=1:\n",
    "        if n%2==0:\n",
    "            n=n/2\n",
    "            val.append(n)\n",
    "        else:\n",
    "            n=n*3+1\n",
    "            val.append(n)\n",
    "    return(n)\n",
    "print(syracuse(3))  "
   ]
  },
  {
   "cell_type": "markdown",
   "metadata": {},
   "source": [
    "3. La conjecture de Collatz (ou problème de Syracuse) affirme que, quel que soit l’entier `n` que l’on choisisse au départ, on finit toujours par arriver à 1 (ce résultat est une *conjecture*, c'est-à-dire qu'il n'a pas été démontré, mais qu'il n'existe pas de contre-exemple connu). Écrire une fonction qui, en appelant la fonction précédente, va vérifier si la conjecture est vraie pour `n` de 1 à `n_max`, où `n_max` est un paramètre de la fonction. \n",
    "\n",
    "*Remarque*: si tout se passe bien, la fonction doit juste se terminer et renvoyer `True` par exemple. Sinon, c’est qu’on sera entré dans une boucle infinie."
   ]
  },
  {
   "cell_type": "code",
   "execution_count": 6,
   "metadata": {
    "tags": []
   },
   "outputs": [
    {
     "name": "stdout",
     "output_type": "stream",
     "text": [
      "true\n"
     ]
    }
   ],
   "source": [
    "\n",
    "def testeConjecture(n_max):\n",
    "    for i in range(1,n_max):\n",
    "        if syracuse(i)==1:\n",
    "            pass\n",
    "        else :\n",
    "            return(\"false\",i)\n",
    "    return(\"true\")\n",
    "\n",
    "print(testeConjecture(10000))"
   ]
  },
  {
   "cell_type": "markdown",
   "metadata": {},
   "source": [
    "4. On appelle *temps de vol* de l’entier `n` le nombre d’étapes pour aller de `n` jusqu’à 1. Le temps de vol de 1 est 0, le temps de vol de 3 est 7. Écrire une fonction qui, étant donné un paramètre `n`, renvoie son temps de vol."
   ]
  },
  {
   "cell_type": "code",
   "execution_count": 12,
   "metadata": {},
   "outputs": [
    {
     "name": "stdout",
     "output_type": "stream",
     "text": [
      "Le temps de vol de 3 est 7\n"
     ]
    }
   ],
   "source": [
    "def tempsVol(n):\n",
    "    step=0\n",
    "    while n!=1:\n",
    "        if n%2==0:\n",
    "            n=n/2\n",
    "            step+=1\n",
    "        else:\n",
    "            n=n*3+1\n",
    "            step+=1\n",
    "    return(step)\n",
    "\n",
    "print(\"Le temps de vol de\", 3, \"est\", tempsVol(3))"
   ]
  },
  {
   "cell_type": "markdown",
   "metadata": {},
   "source": [
    "5. Ecrire une fonction qui, étant donné un paramètre `n_max` renvoie la liste des temps de vol de tous les entiers de 1 à `n_max`. *Indication*: utiliser une liste en compréhension."
   ]
  },
  {
   "cell_type": "code",
   "execution_count": 8,
   "metadata": {},
   "outputs": [
    {
     "name": "stdout",
     "output_type": "stream",
     "text": [
      "[0, 1, 7, 2, 5, 8, 16, 3, 19, 6, 14, 9, 9, 17, 17, 4, 12, 20, 20, 7, 7, 15, 15, 10, 23, 10, 111, 18, 18, 18, 106, 5, 26, 13, 13, 21, 21, 21, 34, 8, 109, 8, 29, 16, 16, 16, 104, 11, 24, 24, 24, 11, 11, 112, 112, 19, 32, 19, 32, 19, 19, 107, 107, 6, 27, 27, 27, 14, 14, 14, 102, 22, 115, 22, 14, 22, 22, 35, 35, 9, 22, 110, 110, 9, 9, 30, 30, 17, 30, 17, 92, 17, 17, 105, 105, 12, 118, 25, 25]\n"
     ]
    }
   ],
   "source": [
    "temps=[]\n",
    "def tempsVolListe(n_max):\n",
    "    step=0\n",
    "    for i in range(1,n_max):\n",
    "        step=0\n",
    "        n=i\n",
    "        while n!=1:\n",
    "            if n%2==0:\n",
    "                n=n/2\n",
    "                step+=1\n",
    "            else:\n",
    "                n=n*3+1\n",
    "                step+=1\n",
    "        temps.append(step)\n",
    "    return(temps)\n",
    "\n",
    "print(tempsVolListe(100))"
   ]
  },
  {
   "cell_type": "markdown",
   "metadata": {},
   "source": [
    "6. Déterminer quel entier entre 1 et 10000 a le plus grand temps de vol (réponse 6171 qui a le temps de vol 261)."
   ]
  },
  {
   "cell_type": "markdown",
   "metadata": {},
   "source": [
    "7. L’altitude maximale de l'entier `n` est la plus grande valeur par laquelle passe `n` au cours de son vol. Déterminer quel entier entre 1 et 10000 a la plus grande altitude maximale (réponse 27114424, atteint par l'entier 9663). Ne pas hésiter à écrire de nouvelles fonctions pour cela."
   ]
  },
  {
   "cell_type": "markdown",
   "metadata": {},
   "source": [
    "---\n",
    "\n",
    "## 3. Carré magique\n",
    "\n",
    "*Définition* extraite de [l'article Wikipedia sur le carré magique](https://fr.wikipedia.org/wiki/Carr%C3%A9_magique_(math%C3%A9matiques)): en mathématiques, un carré magique d’ordre $n$ est composé de $n^2$ entiers strictement positifs, écrits sous la forme d’un tableau carré. Ces nombres sont disposés de sorte que leurs sommes sur chaque rangée, sur chaque colonne et sur chaque diagonale principale soient égales. On nomme alors *constante magique* la valeur de ces sommes. \n",
    "\n",
    "Un exemple de carré magique:\n",
    "\n",
    "$$\\begin{bmatrix} 4 & 14 & 15 & 1 \\\\ 9 & 7 & 6 & 12 \\\\ 5 & 11 & 10 & 8 \\\\ 16 & 2 & 3 & 13 \\end{bmatrix}$$\n",
    "\n",
    "1. Sans écrire de programme, vérifier qu'il s'agit bien d'un carré magique, et donner sa constante magique.\n",
    "\n",
    "Les questions qui suivent doivent être traitées dans un script, qui peut s'appeler `carre_magique.py`. Pensez à utiliser [PythonTutor](http://pythontutor.com/) et les outils de programmation pour résoudre les problèmes qui pourraient survenir.\n",
    "\n",
    "2. Créer une liste à deux dimensions affectée à  la variable `carre_mag` contenant ce carré magique."
   ]
  },
  {
   "cell_type": "markdown",
   "metadata": {},
   "source": [
    "3. Créer une deuxième liste affectée à la variable `carre_pas_mag` qui ne soit pas magique à partir du carré magique en changeant le 3 en 7. "
   ]
  },
  {
   "cell_type": "markdown",
   "metadata": {},
   "source": [
    "4. Créer une fonction qui affiche la liste comme un carré."
   ]
  },
  {
   "cell_type": "code",
   "execution_count": null,
   "metadata": {},
   "outputs": [],
   "source": [
    "def afficheCarre(carre):\n",
    "    for i in range(4):\n",
    "        print(carre[i])\n",
    "\n",
    "afficheCarre(carre_mag)\n",
    "afficheCarre(carre_pas_mag)\n"
   ]
  },
  {
   "cell_type": "markdown",
   "metadata": {},
   "source": [
    "5. Ecrire une fonction qui teste si les lignes du carré ont toutes la même somme. Cette fonction renvoie cette somme si c'est le cas, et `-1` sinon."
   ]
  },
  {
   "cell_type": "code",
   "execution_count": null,
   "metadata": {},
   "outputs": [],
   "source": [
    "sommecarre=0\n",
    "def testLignesEgales(carre):\n",
    "    sommecarre=carre[0][0]+carre[0][1]+carre[0][2]+carre[0][3]   \n",
    "    for v in range(4):\n",
    "        if sommecarre == (carre[v][0]+carre[v][1]+carre[v][2]+carre[v][3]):\n",
    "            print(sommecarre)\n",
    "        else:\n",
    "            print(\"-1\")\n",
    "    return()\n",
    "\n",
    "print(testLignesEgales(carre_mag))\n",
    "print(testLignesEgales(carre_pas_mag))\n"
   ]
  },
  {
   "cell_type": "markdown",
   "metadata": {},
   "source": [
    "6. Même question mais en testant les colonnes."
   ]
  },
  {
   "cell_type": "code",
   "execution_count": 4,
   "metadata": {},
   "outputs": [
    {
     "ename": "SyntaxError",
     "evalue": "cannot assign to operator (2574648332.py, line 1)",
     "output_type": "error",
     "traceback": [
      "\u001b[0;36m  Cell \u001b[0;32mIn [4], line 1\u001b[0;36m\u001b[0m\n\u001b[0;31m    ma-variable=2\u001b[0m\n\u001b[0m    ^\u001b[0m\n\u001b[0;31mSyntaxError\u001b[0m\u001b[0;31m:\u001b[0m cannot assign to operator\n"
     ]
    }
   ],
   "source": [
    "def testDiagonalesEgales(carre):\n",
    "    sommecolone=carre[0][0]+carre[1][0]+carre[2][0]+carre[3][0]   \n",
    "    for k in range(4):\n",
    "        if sommecolone == (carre[0][k]+carre[1][k]+carre[2][k]+carre[3][k]):\n",
    "            pass\n",
    "        else:\n",
    "            return(\"-1\")\n",
    "    return(sommecolone)\n"
   ]
  },
  {
   "cell_type": "markdown",
   "metadata": {},
   "source": [
    "7. Même question mais en testant les 2 diagonales."
   ]
  },
  {
   "cell_type": "code",
   "execution_count": null,
   "metadata": {},
   "outputs": [],
   "source": [
    "sommediagonale=0\n",
    "def testDiagonalesEgales(carre):\n",
    "    sommediagonale=carre[0][0]+carre[1][1]+carre[2][2]+carre[3][3]\n",
    "    if sommediagonale==carre[3][0]+carre[2][1]+carre[1][2]+carre[0][3]:\n",
    "        pass\n",
    "    else:\n",
    "        return(\"-1\")\n",
    "    return(sommediagonale)\n",
    "\n",
    "print(testDiagonalesEgales(carre_mag))\n",
    "print(testDiagonalesEgales(carre_pas_mag))"
   ]
  },
  {
   "cell_type": "markdown",
   "metadata": {},
   "source": [
    "8. Créer une fonction qui teste si un carré est magique. Elle retourne `True` si c'est le cas et `False` sinon."
   ]
  },
  {
   "cell_type": "code",
   "execution_count": null,
   "metadata": {},
   "outputs": [],
   "source": [
    "sommecarre=0\n",
    "def estCarreMagique(carre):\n",
    "    sommecarre=carre[0][0]+carre[1][0]+carre[2][0]+carre[3][0]  \n",
    "    if testColonnesEgales(carre) == sommecarre and testLignesEgales(carre) == sommecarre and testDiagonalesEgales(carre)== sommecarre:\n",
    "        return(\"le carré est magique\")\n",
    "    else:\n",
    "        return(-1)\n",
    "print(estCarreMagique(carre_mag))\n",
    "print(estCarreMagique(carre_pas_mag))"
   ]
  },
  {
   "cell_type": "markdown",
   "metadata": {},
   "source": [
    "9. Un carré d'ordre $n$ est *normal* s'il contient tous les entiers de 1 à $n^2$. Ecrire une fonction qui teste si un carré est normal (pas nécessairement magique)."
   ]
  },
  {
   "cell_type": "code",
   "execution_count": 10,
   "metadata": {},
   "outputs": [],
   "source": [
    "verifcarre=[]\n",
    "def estNormal(carre):\n",
    "    verifcarre=[]\n",
    "    n=len(carre)\n",
    "    for i in range(4):\n",
    "        for v in range(4):\n",
    "            verifcarre.append(carre[i][v])\n",
    "    verifcarre.sort()\n",
    "    for k in range (1,n^2):\n",
    "        if k==(verifcarre[k]-1):\n",
    "            pass\n",
    "        else:\n",
    "            return(\"le carré n'est pas normal\") \n",
    "    return(\"le carré est normal\")"
   ]
  }
 ],
 "metadata": {
  "kernelspec": {
   "display_name": "Python 3.8.9 64-bit",
   "language": "python",
   "name": "python3"
  },
  "language_info": {
   "codemirror_mode": {
    "name": "ipython",
    "version": 3
   },
   "file_extension": ".py",
   "mimetype": "text/x-python",
   "name": "python",
   "nbconvert_exporter": "python",
   "pygments_lexer": "ipython3",
   "version": "3.8.9"
  },
  "vscode": {
   "interpreter": {
    "hash": "31f2aee4e71d21fbe5cf8b01ff0e069b9275f58929596ceb00d14d90e3e16cd6"
   }
  }
 },
 "nbformat": 4,
 "nbformat_minor": 1
}
